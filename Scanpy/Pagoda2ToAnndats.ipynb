{
 "cells": [
  {
   "cell_type": "markdown",
   "id": "af57f969-3f55-42b7-9ad3-dcf5167502ac",
   "metadata": {},
   "source": [
    "# pagoda2 to adata "
   ]
  },
  {
   "cell_type": "code",
   "execution_count": 1,
   "id": "aa1728be-0e07-43db-be5b-06ffdfa95695",
   "metadata": {},
   "outputs": [],
   "source": [
    "#python \n",
    "import pandas as pd\n",
    "import scanpy as sc\n",
    "import anndata as ad\n",
    "from pathlib import Path\n",
    "import anndata as ad"
   ]
  },
  {
   "cell_type": "code",
   "execution_count": null,
   "id": "5380a478-b4e8-4569-87f9-6f9de8d307a2",
   "metadata": {},
   "outputs": [],
   "source": [
    "#R\n",
    "cd /data2/hanna/axonoutgrowth/mouse2/pagoda2\n",
    "singularity shell --bind /data2:/mnt singlecell_last.sif"
   ]
  },
  {
   "cell_type": "markdown",
   "id": "aa1b8947-9619-4a80-94ad-2e754ef5d6c7",
   "metadata": {},
   "source": [
    "## Convertign human objects."
   ]
  },
  {
   "cell_type": "code",
   "execution_count": null,
   "id": "eae7d920-056d-464f-a669-831fe754a016",
   "metadata": {},
   "outputs": [],
   "source": [
    "#R \n",
    "p2_h <- readRDS(\"/mnt/hanna/axonoutgrowth/human2/pagoda2/analysis/objects/human_basicP2proc_filter1000_and_mt.rds\")\n",
    "\n",
    "counts_matrix_norm <- p2_h$counts\n",
    "cell_metadata <- p2_h$depth\n",
    "cell_metadata$clusters <- p2_h$clusters$PCA_harmony_batch$multilevel\n",
    "gene_metadata <- colnames(p2_h$counts)\n",
    "\n",
    "pca <- p2_h$reductions$PCA\n",
    "pca_harmony_batch <- p2_h$reductions$PCA_harmony_batch\n",
    "umap <- p2_h$embeddings$PCA$UMAP\n",
    "umap_harmony_batch <- p2_h$embeddings$PCA_harmony_batch$UMAP_harmony_batch\n",
    "\n",
    "setwd(\"/mnt/hanna/axonoutgrowth/human2/scanpy/scapy_from_pagoda2/pagoda2_to_anndata\")\n",
    "write.csv(cell_metadata, \"cell_metadata_human.csv\", row.names = FALSE)\n",
    "write.csv(gene_metadata, \"gene_metadata_human.csv\", row.names = FALSE)\n",
    "\n",
    "write.csv(pca, \"pca_human.csv\", row.names = TRUE)\n",
    "write.csv(umap, \"umap_human.csv\", row.names = TRUE)\n",
    "\n",
    "write.csv(pca_harmony_batch, \"pca_harmony_batch_human.csv\", row.names = TRUE)\n",
    "write.csv(umap_harmony_batch, \"umap_harmony_batch_human.csv\", row.names = TRUE)\n",
    "\n",
    "counts_matrix_norm <- as(counts_matrix_norm, \"CsparseMatrix\")\n",
    "writeMM(counts_matrix_norm, \"expression_matrix_norm_human.mtx\")"
   ]
  },
  {
   "cell_type": "code",
   "execution_count": null,
   "id": "2c9aa88f-dc38-4752-8019-79b5b585bcd6",
   "metadata": {},
   "outputs": [],
   "source": [
    "#python\n",
    "base_dir = Path(\"/data2/hanna/axonoutgrowth/human2/scanpy/scapy_from_pagoda2/pagoda2_to_anndata\")\n",
    "expression_matrix = sc.read_mtx(base_dir / \"expression_matrix_norm_human.mtx\")\n",
    "adata = expression_matrix"
   ]
  },
  {
   "cell_type": "code",
   "execution_count": null,
   "id": "a4b69fb9-366f-48bf-8975-3b62958624d6",
   "metadata": {},
   "outputs": [],
   "source": [
    "adata.shape"
   ]
  },
  {
   "cell_type": "code",
   "execution_count": null,
   "id": "6fca8ce5-6b67-4cce-b2d6-db60e203e0f3",
   "metadata": {},
   "outputs": [],
   "source": [
    "cell_metadata = pd.read_csv(base_dir / \"cell_metadata_human.csv\", index_col=0)\n",
    "gene_metadata = pd.read_csv(base_dir / \"gene_metadata_human.csv\", index_col=0)"
   ]
  },
  {
   "cell_type": "code",
   "execution_count": null,
   "id": "7fb1af61-f597-425c-b0f0-65e3bde2e4cf",
   "metadata": {},
   "outputs": [],
   "source": [
    "adata.obs = cell_metadata\n",
    "adata.var = gene_metadata"
   ]
  },
  {
   "cell_type": "code",
   "execution_count": null,
   "id": "3cd3bace-5f5c-4275-8614-88fd1305a2d6",
   "metadata": {},
   "outputs": [],
   "source": [
    "pca = pd.read_csv(base_dir / \"pca_human.csv\", index_col=0)\n",
    "umap = pd.read_csv(base_dir / \"umap_human.csv\", index_col=0)\n",
    "pca_harmony_batch = pd.read_csv(base_dir / \"pca_harmony_batch_human.csv\", index_col=0)\n",
    "umap_harmony_batch = pd.read_csv(base_dir / \"umap_harmony_batch_human.csv\", index_col=0)"
   ]
  },
  {
   "cell_type": "code",
   "execution_count": null,
   "id": "fd7f7058-1c2a-483f-9f1d-5771d81364cd",
   "metadata": {},
   "outputs": [],
   "source": [
    "adata.obsm['X_pca'] = pca.values\n",
    "adata.obsm['X_umap'] = umap.values\n",
    "adata.obsm['X_pca_harmony_batch'] = pca_harmony_batch.values\n",
    "adata.obsm['X_umap_harmony_batch'] = umap_harmony_batch.values"
   ]
  },
  {
   "cell_type": "code",
   "execution_count": null,
   "id": "59d7f5a1-3471-4823-89b1-f6272c0861cf",
   "metadata": {},
   "outputs": [],
   "source": [
    "adata.layers[\"counts\"] = adata.X"
   ]
  },
  {
   "cell_type": "code",
   "execution_count": null,
   "id": "076a01cc-7cfd-4879-8c19-e1d04b3e3aef",
   "metadata": {},
   "outputs": [],
   "source": [
    "# Write to output file\n",
    "adata.write(\"/data2/hanna/axonoutgrowth/human2/scanpy/scanpy_from_pagoda2/pagoda2_to_anndata.h5ad\")"
   ]
  },
  {
   "cell_type": "markdown",
   "id": "cd54bfe0-8e8f-4221-9f7f-50b5a83beb99",
   "metadata": {},
   "source": [
    "## Converting mouse objects."
   ]
  },
  {
   "cell_type": "code",
   "execution_count": 2,
   "id": "0d0d957c-dcbd-4a50-853f-f5f59f7005a9",
   "metadata": {},
   "outputs": [
    {
     "ename": "SyntaxError",
     "evalue": "invalid syntax (2140570933.py, line 3)",
     "output_type": "error",
     "traceback": [
      "\u001b[0;36m  Cell \u001b[0;32mIn[2], line 3\u001b[0;36m\u001b[0m\n\u001b[0;31m    counts_matrix_norm <- p2_m$counts\u001b[0m\n\u001b[0m                              ^\u001b[0m\n\u001b[0;31mSyntaxError\u001b[0m\u001b[0;31m:\u001b[0m invalid syntax\n"
     ]
    }
   ],
   "source": [
    "#R\n",
    "p2_m <- readRDS(\"/mnt/hanna/axonoutgrowth/mouse2/pagoda2/analysis/objects/mouse_basicP2proc_filt100_mt4perc.rds\")\n",
    "\n",
    "counts_matrix_norm <- p2_m$counts\n",
    "cell_metadata <- p2_m$depth\n",
    "cell_metadata$clusters <- p2_m$clusters$PCA_harmony_batch$multilevel\n",
    "gene_metadata <- colnames(p2_m$counts)\n",
    "\n",
    "pca <- p2_m$reductions$PCA\n",
    "pca_harmony_batch <- p2_m$reductions$PCA_harmony_batch\n",
    "umap <- p2_m$embeddings$PCA$UMAP\n",
    "umap_harmony_batch <- p2_h$embeddings$PCA_harmony_batch$UMAP_harmony_batch\n",
    "\n",
    "setwd(\"/mnt/hanna/axonoutgrowth/mouse2/scanpy/scapy_from_pagoda2/pagoda2_to_anndata\")\n",
    "write.csv(cell_metadata, \"cell_metadata_mouse.csv\", row.names = FALSE)\n",
    "write.csv(gene_metadata, \"gene_metadata_mouse.csv\", row.names = FALSE)\n",
    "\n",
    "write.csv(pca, \"pca_mouse.csv\", row.names = TRUE)\n",
    "write.csv(umap, \"umap_mouse.csv\", row.names = TRUE)\n",
    "\n",
    "write.csv(pca_harmony_batch, \"pca_harmony_batch_mouse.csv\", row.names = TRUE)\n",
    "write.csv(umap_harmony_batch, \"umap_harmony_batch_mouse.csv\", row.names = TRUE)\n",
    "\n",
    "counts_matrix_norm <- as(counts_matrix_norm, \"CsparseMatrix\")\n",
    "writeMM(counts_matrix_norm, \"expression_matrix_norm_mouse.mtx\")"
   ]
  },
  {
   "cell_type": "code",
   "execution_count": 2,
   "id": "f4356443-1bf8-43af-8257-5fc0e36b44ea",
   "metadata": {},
   "outputs": [],
   "source": [
    "#python\n",
    "base_dir = Path(\"/data2/hanna/axonoutgrowth/mouse2/scanpy/scapy_from_pagoda2/pagoda2_to_anndata\")\n",
    "expression_matrix = sc.read_mtx(base_dir / \"expression_matrix_norm_mouse.mtx\")\n",
    "adata = expression_matrix"
   ]
  },
  {
   "cell_type": "code",
   "execution_count": 3,
   "id": "14ee4e74-aad6-444f-82df-b10f5d81b926",
   "metadata": {},
   "outputs": [
    {
     "data": {
      "text/plain": [
       "(77779, 24216)"
      ]
     },
     "execution_count": 3,
     "metadata": {},
     "output_type": "execute_result"
    }
   ],
   "source": [
    "adata.shape"
   ]
  },
  {
   "cell_type": "code",
   "execution_count": 5,
   "id": "1d1f3290-adf7-46f3-a526-9002726475cb",
   "metadata": {},
   "outputs": [],
   "source": [
    "cell_metadata = pd.read_csv(base_dir / \"cell_metadata_mouse.csv\", index_col=0)\n",
    "gene_metadata = pd.read_csv(base_dir / \"gene_metadata_mouse.csv\", index_col=0)"
   ]
  },
  {
   "cell_type": "code",
   "execution_count": 8,
   "id": "408eeb19-36d7-4b0a-a18e-5f3a141c1e84",
   "metadata": {},
   "outputs": [],
   "source": [
    "cell_metadata.index = cell_metadata['bc_wells']"
   ]
  },
  {
   "cell_type": "code",
   "execution_count": 9,
   "id": "978b3797-d5ce-4595-a6fc-4fe69b2b2cc4",
   "metadata": {},
   "outputs": [
    {
     "data": {
      "text/html": [
       "<div>\n",
       "<style scoped>\n",
       "    .dataframe tbody tr th:only-of-type {\n",
       "        vertical-align: middle;\n",
       "    }\n",
       "\n",
       "    .dataframe tbody tr th {\n",
       "        vertical-align: top;\n",
       "    }\n",
       "\n",
       "    .dataframe thead th {\n",
       "        text-align: right;\n",
       "    }\n",
       "</style>\n",
       "<table border=\"1\" class=\"dataframe\">\n",
       "  <thead>\n",
       "    <tr style=\"text-align: right;\">\n",
       "      <th></th>\n",
       "    </tr>\n",
       "    <tr>\n",
       "      <th>x</th>\n",
       "    </tr>\n",
       "  </thead>\n",
       "  <tbody>\n",
       "    <tr>\n",
       "      <th>Gnai3</th>\n",
       "    </tr>\n",
       "    <tr>\n",
       "      <th>Cdc45</th>\n",
       "    </tr>\n",
       "    <tr>\n",
       "      <th>H19</th>\n",
       "    </tr>\n",
       "    <tr>\n",
       "      <th>Scml2</th>\n",
       "    </tr>\n",
       "    <tr>\n",
       "      <th>Apoh</th>\n",
       "    </tr>\n",
       "    <tr>\n",
       "      <th>...</th>\n",
       "    </tr>\n",
       "    <tr>\n",
       "      <th>Gm55975</th>\n",
       "    </tr>\n",
       "    <tr>\n",
       "      <th>Gm55782</th>\n",
       "    </tr>\n",
       "    <tr>\n",
       "      <th>Gm56268</th>\n",
       "    </tr>\n",
       "    <tr>\n",
       "      <th>Gm55876</th>\n",
       "    </tr>\n",
       "    <tr>\n",
       "      <th>EmGFP</th>\n",
       "    </tr>\n",
       "  </tbody>\n",
       "</table>\n",
       "<p>24216 rows × 0 columns</p>\n",
       "</div>"
      ],
      "text/plain": [
       "Empty DataFrame\n",
       "Columns: []\n",
       "Index: [Gnai3, Cdc45, H19, Scml2, Apoh, Narf, Cav2, Klf6, Scmh1, Cox5a, Tbx2, Tbx4, Ngfr, Wnt3, Wnt9a, Fer, Xpo6, Tfe3, Axin2, Brat1, Gna12, Slc22a18, Pih1d2, Dlat, Sdhd, Ccnd2, Gpr107, Nalcn, Btbd17, Th, Ins2, Scnn1g, Drp2, Tspan32, Lhx2, Clec2g, Gmpr, Glra1, Mid2, Trim25, Dgke, Scpep1, Mnt, Hddc2, Tpd52l1, Pemt, Cdh1, Cdh4, Ckmt1, Bcl6b, Alox12, Comt, Rtca, Dbt, Dazap2, Mcts1, Rnf17, Trappc10, Ccm2, Tbrg4, Tmprss2, Mx1, Fap, Ndufa9, Egfl6, Lck, Cttnbp2, Galnt1, Mkrn2, Pparg, Raf1, Septin1, Pdgfb, Acvrl1, Tamalin, Acvr1b, Tom1l2, Gpa33, Zfp385a, Itga5, Gabra2, Wdr77, Adora3, Atp5pb, Sox9, Hnrnpd, Dynlt1c, C1d, Gm2a, Krit1, Clcn4, Grm6, Sema4f, Hk2, Myo18a, Sez6, Haao, Cd52, Abhd15, Hoxb6, ...]\n",
       "\n",
       "[24216 rows x 0 columns]"
      ]
     },
     "execution_count": 9,
     "metadata": {},
     "output_type": "execute_result"
    }
   ],
   "source": [
    "gene_metadata"
   ]
  },
  {
   "cell_type": "code",
   "execution_count": 10,
   "id": "2cfc1194-300c-4f1b-8c74-70e9a2590799",
   "metadata": {},
   "outputs": [],
   "source": [
    "adata.obs = cell_metadata\n",
    "adata.var = gene_metadata"
   ]
  },
  {
   "cell_type": "code",
   "execution_count": 11,
   "id": "e3155322-f882-4170-8f40-4f4cbca03a44",
   "metadata": {},
   "outputs": [],
   "source": [
    "pca = pd.read_csv(base_dir / \"pca_mouse.csv\", index_col=0)\n",
    "umap = pd.read_csv(base_dir / \"umap_mouse.csv\", index_col=0)\n",
    "pca_harmony_batch = pd.read_csv(base_dir / \"pca_harmony_batch_mouse.csv\", index_col=0)\n",
    "umap_harmony_batch = pd.read_csv(base_dir / \"umap_harmony_batch_mouse.csv\", index_col=0)"
   ]
  },
  {
   "cell_type": "code",
   "execution_count": 12,
   "id": "4cffe81e-cc69-46fc-8c40-ef3e29d8bd3a",
   "metadata": {},
   "outputs": [],
   "source": [
    "adata.obsm['X_pca'] = pca.values\n",
    "adata.obsm['X_umap'] = umap.values\n",
    "adata.obsm['X_pca_harmony_batch'] = pca_harmony_batch.values\n",
    "adata.obsm['X_umap_harmony_batch'] = umap_harmony_batch.values"
   ]
  },
  {
   "cell_type": "code",
   "execution_count": 13,
   "id": "3b5647f8-ca6c-46c4-8832-a7b2fb663996",
   "metadata": {},
   "outputs": [],
   "source": [
    "adata.layers[\"counts\"] = adata.X"
   ]
  },
  {
   "cell_type": "code",
   "execution_count": 16,
   "id": "d699d748-6121-49c4-a25c-8c9f11144575",
   "metadata": {},
   "outputs": [],
   "source": [
    "# Write to output file\n",
    "adata.write(\"/data2/hanna/axonoutgrowth/mouse2/scanpy/scanpy_from_pagoda2/pagoda2_to_anndata.h5ad\")"
   ]
  },
  {
   "cell_type": "code",
   "execution_count": null,
   "id": "4216b68a-d2f8-4035-b8d3-e4e9ed1adb16",
   "metadata": {},
   "outputs": [],
   "source": []
  }
 ],
 "metadata": {
  "kernelspec": {
   "display_name": "Python 3 (ipykernel)",
   "language": "python",
   "name": "python3"
  },
  "language_info": {
   "codemirror_mode": {
    "name": "ipython",
    "version": 3
   },
   "file_extension": ".py",
   "mimetype": "text/x-python",
   "name": "python",
   "nbconvert_exporter": "python",
   "pygments_lexer": "ipython3",
   "version": "3.10.10"
  }
 },
 "nbformat": 4,
 "nbformat_minor": 5
}
