{
 "cells": [
  {
   "cell_type": "markdown",
   "metadata": {},
   "source": [
    "# Trajectory detection and isolation\n",
    "\n",
    "\n",
    "## Data\n",
    "\n",
    "<div style=\"padding-top: 10px; font-size: 15px;\">\n",
    "We'll start from the previously saved AnnData of metacells that we called <code>1_CombinedMetaCells.h5ad</code>\n",
    "\n",
    "## Notebook content\n",
    "<div font-size: 15px;\">\n",
    "<ul>\n",
    "<li>Metacells processing</li>\n",
    "<li>Trajectory inference with Palantir</li>\n",
    "</ul>\n",
    "\n",
    "</div>\n",
    "\n",
    "---"
   ]
  },
  {
   "cell_type": "markdown",
   "metadata": {},
   "source": [
    "# Library loading"
   ]
  },
  {
   "cell_type": "code",
   "execution_count": null,
   "metadata": {},
   "outputs": [],
   "source": [
    "import scanpy as sc, anndata as ad, numpy as np, pandas as pd\n",
    "import warnings\n",
    "import yaml\n",
    "import os\n",
    "import warnings\n",
    "import matplotlib.pyplot as plt\n",
    "import seaborn as sns\n",
    "import scipy.sparse as sp\n",
    "import statsmodels.api as sm\n",
    "import scanpy as sc\n",
    "import numpy as np\n",
    "import pandas as pd\n",
    "\n",
    "\n",
    "import matplotlib.pyplot \n",
    "import scanpy.external as sce\n",
    "from matplotlib.colors import TwoSlopeNorm\n",
    "import warnings\n",
    "warnings.filterwarnings('ignore')\n",
    "\n",
    "import plotly.graph_objects as go\n",
    "from scipy import stats\n",
    "warnings.filterwarnings('ignore')\n",
    "import scvelo as scv\n",
    "import plotly.express as px\n",
    "import plotly.io as pio\n",
    "import itertools\n",
    "import decoupler as dc\n",
    "import sys\n",
    "pio.renderers.default = \"jupyterlab\"\n",
    "import random\n",
    "random.seed(1)\n"
   ]
  },
  {
   "cell_type": "code",
   "execution_count": null,
   "metadata": {},
   "outputs": [],
   "source": [
    "homeDir = os.getenv(\"HOME\")\n",
    "\n",
    "sc.settings.verbosity = 3             # verbosity: errors (0), warnings (1), info (2), hints (3)\n",
    "sc.logging.print_header()\n",
    "\n",
    "import matplotlib.pyplot as plt\n",
    "sys.path.insert(1, \"./utils/\")\n",
    "\n",
    "\n",
    "from CleanAdata import *\n",
    "from SankeyOBS import *\n"
   ]
  },
  {
   "cell_type": "markdown",
   "metadata": {},
   "source": [
    "# 1. Metacells processing\n",
    "## 1.1 Load metacells data\n",
    "\n",
    "<div style=\"padding-top: 10px; font-size: 15px;\">\n",
    "We load the metacells object and log-normalize the counts for downstream analysis."
   ]
  },
  {
   "cell_type": "code",
   "execution_count": null,
   "metadata": {},
   "outputs": [],
   "source": [
    "CombinedAdata = sc.read_h5ad(\"./1_CombinedMetaCells.h5ad\")\n",
    "#CombinedAdata = sc.read_h5ad(\"/group/brainomics/InputData/1_CombinedMetaCells.h5ad\")\n",
    "\n",
    "sc.pp.normalize_total(CombinedAdata, target_sum=2e4)\n",
    "sc.pp.log1p(CombinedAdata)\n",
    "CombinedAdata"
   ]
  },
  {
   "cell_type": "markdown",
   "metadata": {},
   "source": [
    "<div style=\"padding-top: 10px; font-size: 15px;\">\n",
    "Here we remove \"AggregatedLabel\" with less than 10 metacells:"
   ]
  },
  {
   "cell_type": "code",
   "execution_count": null,
   "metadata": {},
   "outputs": [],
   "source": [
    "# Keep only clusters with at least 10 cells\n",
    "AggregatedOBS = CombinedAdata.obs[\"AggregatedLabel\"].value_counts().loc[CombinedAdata.obs[\"AggregatedLabel\"].value_counts() > 10].index.tolist()\n",
    "CombinedAdata = CombinedAdata[CombinedAdata.obs[\"AggregatedLabel\"].isin(AggregatedOBS)]"
   ]
  },
  {
   "cell_type": "markdown",
   "metadata": {},
   "source": [
    "## 1.2 Re-compute HVGs, neighbors and PCA\n",
    "\n",
    "<div style=\"padding-top: 10px; font-size: 15px;\">\n",
    "\n",
    "We process the metacells dataset similarly to what done during Day 1 for the single cell dataset. You can notice that the computation are much faster."
   ]
  },
  {
   "cell_type": "code",
   "execution_count": null,
   "metadata": {},
   "outputs": [],
   "source": [
    "n_neighb = 30\n",
    "n_pcs = 5"
   ]
  },
  {
   "cell_type": "code",
   "execution_count": null,
   "metadata": {},
   "outputs": [],
   "source": [
    "sc.pp.highly_variable_genes(CombinedAdata, n_top_genes=2000, flavor=\"seurat\", batch_key=\"Auth_Sample.ID\")\n",
    "CombinedAdata.var[\"highly_variable\"] = CombinedAdata.var[\"highly_variable_nbatches\"] >= 2 \n",
    "sc.tl.pca(CombinedAdata)\n",
    "sc.pl.pca_variance_ratio(CombinedAdata)\n",
    "sc.pp.neighbors(CombinedAdata, n_neighbors=n_neighb, n_pcs=n_pcs, metric=\"euclidean\")\n",
    "sc.tl.umap(CombinedAdata)\n",
    "ax = sc.pl.pca(CombinedAdata, color=[\"Auth_Sample.ID\",\"Auth_Age\",\"Auth_Batch\"], show=False)\n"
   ]
  },
  {
   "cell_type": "code",
   "execution_count": null,
   "metadata": {},
   "outputs": [],
   "source": [
    "plotSankey(CombinedAdata, covs=[\"Auth_Sample.ID\",\"Auth_Age\",\"Auth_Batch\"])"
   ]
  },
  {
   "cell_type": "markdown",
   "metadata": {},
   "source": [
    "<div class=\"alert alert-block alert-warning\" style=\"padding-top: 10px; font-size: 15px;\"><b>NOTE on HVGs</b>\n",
    "\n",
    "**We specify:**\n",
    "\n",
    "```\n",
    "\n",
    "sc.pp.highly_variable_genes(CombinedAdata, n_top_genes=2000, flavor=\"seurat\", **batch_key=\"Auth_Sample.ID\"**)\n",
    "\n",
    "CombinedAdata.var[\"highly_variable\"] = CombinedAdata.var[\"highly_variable_nbatches\"] **>= 2**\n",
    "\n",
    "```\n",
    "\n",
    " Because we want to employ ony highly variable genes deriving from at **least 2 samples**, so to avoid including HVG exclusive for a specific batch.\n",
    "\n",
    "</div>"
   ]
  },
  {
   "cell_type": "code",
   "execution_count": null,
   "metadata": {},
   "outputs": [],
   "source": [
    "\n",
    "sc.pl.umap(CombinedAdata, color=[\"Auth_Sample.ID\",\"TOP2A\",\"DCX\",\"DLX5\",\"SLC17A6\",\"AggregatedLabel\"], ncols=3, wspace=.3, size = 30, vmin='p1', vmax='p99')"
   ]
  },
  {
   "cell_type": "code",
   "execution_count": null,
   "metadata": {},
   "outputs": [],
   "source": [
    "fig, axes = plt.subplots(1,len(CombinedAdata.obs.Auth_Age.unique()), figsize=(50, 10), dpi=80)\n",
    "for Auth_Age in enumerate(CombinedAdata.obs.Auth_Age.unique()):\n",
    "    SampleIDs = CombinedAdata.obs.loc[CombinedAdata.obs.Auth_Age == Auth_Age[1],\"Auth_Sample.ID\"].unique().tolist()\n",
    "    axes[Auth_Age[0]] = sc.pl.embedding(CombinedAdata, size = 200, add_outline=True,ncols=2, color=[\"Auth_Sample.ID\"],title=\"{} replicates\".format(Auth_Age[1]),\n",
    "                     groups=SampleIDs, vmin='p1', vmax='p99', show=False, ax=axes[Auth_Age[0]], basis = \"umap\")\n",
    "\n",
    "plt.subplots_adjust(wspace=.5)\n",
    "fig.show()"
   ]
  },
  {
   "cell_type": "markdown",
   "metadata": {},
   "source": [
    "<span style=\"color: red\" style=\"padding-top: 10px; font-size: 15px;\">\n",
    "    \n",
    "**What are your observations about the distribution of markers and distribution of batches?**"
   ]
  },
  {
   "cell_type": "markdown",
   "metadata": {},
   "source": [
    "## 1.3 Perform a fresh integration on the new metacells anndata"
   ]
  },
  {
   "cell_type": "markdown",
   "metadata": {},
   "source": [
    "<div class=\"alert alert-block alert-info\" style=\"padding-top: 10px; font-size: 15px;\">\n",
    "\n",
    "<b>NOTE: Pre-processing</b>\n",
    "\n",
    "After steps that involve alteration of the relationships among cells consider re-computing **PCA/Neighbors and/or HVGs** , e.g.:\n",
    "\n",
    "* `Integration`\n",
    "* `Filtering`\n",
    "* `Subsetting`"
   ]
  },
  {
   "cell_type": "code",
   "execution_count": null,
   "metadata": {},
   "outputs": [],
   "source": [
    "CombinedAdata = CleanAdata(CombinedAdata, obstokeep=CombinedAdata.obs.columns.tolist(), obsmtokeep=\"X_pca\")\n",
    "sce.pp.harmony_integrate(CombinedAdata, key=\"Auth_Batch\", max_iter_harmony=20, theta =3)"
   ]
  },
  {
   "cell_type": "markdown",
   "metadata": {},
   "source": [
    "<div style=\"padding-top: 10px; font-size: 15px;\">\n",
    "\n",
    "In this case __force-directed graph__ can be an useful visualization tool that better capture relationships among cells (i.e., lineages). It is a different low-dimensional representation of the data which algorithm where similarities and differences between cells are forces that drives the distribution of cells in space, maximizing the distance between cells that are different (which will \"repulse\" each other) and minimizing the one between similar cells. For reference: [Scanpy's API](https://scanpy.readthedocs.io/en/stable/generated/scanpy.tl.draw_graph.html)"
   ]
  },
  {
   "cell_type": "code",
   "execution_count": null,
   "metadata": {},
   "outputs": [],
   "source": [
    "sc.pp.neighbors(CombinedAdata, n_neighbors=n_neighb, n_pcs=n_pcs, use_rep=\"X_pca_harmony\")\n",
    "sc.tl.draw_graph(CombinedAdata)"
   ]
  },
  {
   "cell_type": "code",
   "execution_count": null,
   "metadata": {},
   "outputs": [],
   "source": [
    "\n",
    "sc.pl.draw_graph(CombinedAdata, color=[\"TOP2A\",\"AggregatedClass\",\"AggregatedLabel\",\"Auth_Age\"], size=10, wspace=.6, ncols=2, vmin='p1', vmax='p99', add_outline=True, edges=True)"
   ]
  },
  {
   "cell_type": "markdown",
   "metadata": {},
   "source": [
    "<div class=\"alert alert-block alert-warning\" style=\"padding-top: 10px; font-size: 15px;\"><b>NOTE: 2D dimensionality reduction limitations:</b>\n",
    "\n",
    "UMAP, tSNE and also Force-directed graphs embed cells in 2D space, and should **NEVER be employed to draw conclusions** from their inspection. They should be used as a **visual support**\n",
    "\n"
   ]
  },
  {
   "cell_type": "markdown",
   "metadata": {},
   "source": [
    "# 2. Find top markers for each cell state we want to study"
   ]
  },
  {
   "cell_type": "code",
   "execution_count": null,
   "metadata": {},
   "outputs": [],
   "source": [
    "sc.tl.rank_genes_groups(CombinedAdata, groupby=\"AggregatedLabel\", method=\"wilcoxon\", n_genes=1000)\n",
    "sc.pl.rank_genes_groups(CombinedAdata, n_genes=25, ncols=5, fontsize=15)\n"
   ]
  },
  {
   "cell_type": "markdown",
   "metadata": {},
   "source": [
    "# 5. Trajectory inference: Palantir"
   ]
  },
  {
   "cell_type": "markdown",
   "metadata": {},
   "source": [
    "<div style=\"padding-top: 10px; font-size: 15px;\">\n",
    "    \n",
    "There are several tools thanks to which you can infere developmental trajectories in single cell, here we are employing a pseudo-time based method, called [Palantir](https://www.nature.com/articles/s41587-019-0068-4) that \"models trajectories of differentiating cells by treating cell fate as a probabilistic process and leverages entropy to measure cell plasticity along the trajectory\".\n",
    "It will generate a pseudo-time ordering of cells and, for each cell state, assigns a probability for differentiating into each terminal state."
   ]
  },
  {
   "cell_type": "markdown",
   "metadata": {},
   "source": [
    "## 5.1 Diffusion map"
   ]
  },
  {
   "cell_type": "code",
   "execution_count": null,
   "metadata": {},
   "outputs": [],
   "source": [
    "import palantir\n",
    "dm_res = palantir.utils.run_diffusion_maps(CombinedAdata, knn=50, pca_key=\"X_pca_harmony\", n_components=7)\n",
    "ms_data = palantir.utils.determine_multiscale_space(CombinedAdata)"
   ]
  },
  {
   "cell_type": "markdown",
   "metadata": {},
   "source": [
    "## 5.2 Counts imputation: **MAGIC**"
   ]
  },
  {
   "cell_type": "markdown",
   "metadata": {},
   "source": [
    "<div>\n",
    "  <img src=\"https://www.cell.com/cms/10.1016/j.cell.2018.05.061/asset/fb5c94be-02d1-44cb-93b4-86ea62aa1f7d/main.assets/fx1_lrg.jpg\" width=\"800\">\n",
    "</div>\n",
    "\n",
    "<div>\n",
    "  <p>\n",
    "    <strong>Reference:</strong> \n",
    "    <a href=\"https://www.cell.com/cell/fulltext/S0092-8674(18)30724-4\">Recovering Gene Interactions from Single-Cell Data Using Data Diffusion</a>\n",
    "  </p>\n",
    "</div>\n",
    "\n",
    "<div style=\"padding-top: 10px; font-size: 15px;\">\n",
    "   <p style=\"font-style: italic;\">\n",
    "     MAGIC takes an observed count matrix and recovers an imputed count matrix representing the likely expression for each individual cell based on data diffusion between similar cells.<br>\n",
    "     For a given cell, MAGIC first identifies the cells that are most similar and aggregates gene expression across these highly similar cells to impute gene expression.<br>\n",
    "     This approach helps correct for dropout and other sources of noise, leading to a more accurate representation of gene expression at the single-cell level.\n",
    "   </p>\n",
    "</div>\n",
    "\n",
    "\n",
    "<div class=\"alert alert-block alert-info\" style=\"padding-top: 10px; font-size: 15px;\">\n",
    "  <b>NOTE: Here magic imputed data will be useful to:</b>\n",
    "\n",
    "  * Better selecting the endpoints of **expected** tajectories\n",
    "\n",
    "\n"
   ]
  },
  {
   "cell_type": "code",
   "execution_count": null,
   "metadata": {},
   "outputs": [],
   "source": [
    "if \"MAGIC_imputed_data\" not in CombinedAdata.layers.keys():\n",
    "    imputed_X = palantir.utils.run_magic_imputation(CombinedAdata)"
   ]
  },
  {
   "cell_type": "code",
   "execution_count": null,
   "metadata": {},
   "outputs": [],
   "source": [
    "markerList = [\"SOBP\",\"CLU\",\"SCRG1\", \"TOP2A\"]"
   ]
  },
  {
   "cell_type": "code",
   "execution_count": null,
   "metadata": {},
   "outputs": [],
   "source": [
    "fig, axes = plt.subplots(2, len(markerList), figsize=(30, 10), dpi=80)\n",
    "\n",
    "for i in ['Magic imputed', 'Norm Counts']:  # Corrected typo here\n",
    "    if i == 'Magic imputed':  # Changed condition to compare to string\n",
    "        for n, m in enumerate(markerList):\n",
    "            axes[0][n] = sc.pl.draw_graph(CombinedAdata, color=m, layer=\"MAGIC_imputed_data\", ax=axes[0][n], show=False, add_outline=True, title=[i+\" \"+m])\n",
    "    if i == 'Norm Counts':  # Changed condition to compare to string\n",
    "        for n, m in enumerate(markerList):\n",
    "            axes[1][n] = sc.pl.draw_graph(CombinedAdata, color=m, ax=axes[1][n], show=False, add_outline=True, title=[i+\" \"+m])\n",
    "\n",
    "plt.show()\n"
   ]
  },
  {
   "cell_type": "markdown",
   "metadata": {},
   "source": [
    "## 5.3 Selection of terminal states\n",
    "\n",
    "<div style=\"padding-top: 10px; font-size: 15px;\">\n",
    "Each of the markers plotted above represents a marker of a terminal state, that is a more differentiated state (excitatory neurons for SOBP, outer radial glia for CLU and oligodendrocytes for SCRG1) or the marker of the initial states, corresponding to the less differentiated cells (TOP2A). We select as endpoint cell the one expressing the highest value of those markers."
   ]
  },
  {
   "cell_type": "code",
   "execution_count": null,
   "metadata": {},
   "outputs": [],
   "source": [
    "#Cells selection\n",
    "start_cell = CombinedAdata.obs_names[CombinedAdata[:,\"TOP2A\"].layers[\"MAGIC_imputed_data\"].argmax()]\n",
    "terminal_states = pd.Series(\n",
    "    [\"ExC\", \"Org\",\"Olig\"],\n",
    "    index=[CombinedAdata.obs_names[CombinedAdata[:,\"SOBP\"].layers[\"MAGIC_imputed_data\"].argmax()], \n",
    "           CombinedAdata.obs_names[CombinedAdata[:,\"CLU\"].layers[\"MAGIC_imputed_data\"].argmax()],\n",
    "           CombinedAdata.obs_names[CombinedAdata[:,\"SCRG1\"].layers[\"MAGIC_imputed_data\"].argmax()]],\n",
    ")\n",
    "palantir.plot.highlight_cells_on_umap(CombinedAdata, pd.concat([terminal_states, pd.Series([\"Root\"], index=[start_cell])]), embedding_basis=\"X_draw_graph_fa\")\n",
    "plt.show()"
   ]
  },
  {
   "cell_type": "markdown",
   "metadata": {},
   "source": [
    "## 5.3 Actual trajectory inference\n",
    "\n",
    "<div style=\"padding-top: 10px; font-size: 15px;\">\n",
    "For each of the endpoints we can isolate the trajectories going from the root to the endpoint cells."
   ]
  },
  {
   "cell_type": "code",
   "execution_count": null,
   "metadata": {},
   "outputs": [],
   "source": [
    "pr_res = palantir.core.run_palantir(CombinedAdata, early_cell=start_cell, terminal_states=terminal_states,knn=30,use_early_cell_as_start=True)\n",
    "palantir.plot.plot_palantir_results(CombinedAdata, s=20,embedding_basis=\"X_draw_graph_fa\")\n",
    "plt.show()\n",
    "\n",
    "palantir.presults.PSEUDOTIME_RES = CombinedAdata.n_obs\n",
    "\n",
    "masks = palantir.presults.select_branch_cells(CombinedAdata, q=.01, eps=.01)\n",
    "\n",
    "palantir.plot.plot_branch_selection(CombinedAdata,embedding_basis=\"X_draw_graph_fa\")\n",
    "plt.show()"
   ]
  },
  {
   "cell_type": "markdown",
   "metadata": {},
   "source": [
    "# Save anndata with trajectories"
   ]
  },
  {
   "cell_type": "code",
   "execution_count": null,
   "metadata": {},
   "outputs": [],
   "source": [
    "CombinedAdata.write(\"./2_TrajectoriesAdata.h5ad\")"
   ]
  }
 ],
 "metadata": {
  "kernelspec": {
   "display_name": "Python 3 (ipykernel)",
   "language": "python",
   "name": "python3"
  },
  "language_info": {
   "codemirror_mode": {
    "name": "ipython",
    "version": 3
   },
   "file_extension": ".py",
   "mimetype": "text/x-python",
   "name": "python",
   "nbconvert_exporter": "python",
   "pygments_lexer": "ipython3",
   "version": "3.10.10"
  }
 },
 "nbformat": 4,
 "nbformat_minor": 4
}
